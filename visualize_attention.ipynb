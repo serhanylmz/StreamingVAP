{
 "cells": [
  {
   "cell_type": "code",
   "execution_count": 7,
   "metadata": {},
   "outputs": [],
   "source": [
    "import torch\n",
    "import torch.nn as nn\n",
    "import matplotlib.pyplot as plt\n",
    "import seaborn as sns\n"
   ]
  },
  {
   "cell_type": "code",
   "execution_count": 8,
   "metadata": {},
   "outputs": [],
   "source": [
    "\n",
    "class EncoderCPC(nn.Module):\n",
    "    def __init__(self, output_dims=256):\n",
    "        super().__init__()\n",
    "        self.output_dims = output_dims\n",
    "        self.conv = nn.Conv1d(1, output_dims, kernel_size=3, padding=1)\n",
    "\n",
    "    def forward(self, x):\n",
    "        # Assuming x shape is (batch, channels, samples)\n",
    "        x = self.conv(x)\n",
    "        return x\n",
    "\n",
    "class VapStereoTower(nn.Module):\n",
    "    def __init__(self, dim, num_heads, num_layers):\n",
    "        super().__init__()\n",
    "        self.layers = nn.ModuleList([\n",
    "            nn.TransformerEncoderLayer(d_model=dim, nhead=num_heads) for _ in range(num_layers)\n",
    "        ])\n",
    "        self.transformer_encoder = nn.TransformerEncoder(nn.TransformerEncoderLayer(d_model=dim, nhead=num_heads), num_layers=num_layers)\n",
    "\n",
    "    def forward(self, x1, x2, return_attn=False):\n",
    "        # Stack x1 and x2 along a new dimension to match the expected input shape for Transformer\n",
    "        combined = torch.cat((x1, x2), dim=2)  # Concatenate along the sequence dimension\n",
    "        attn_weights = []\n",
    "        for layer in self.layers:\n",
    "            combined, attn = layer(combined)\n",
    "            attn_weights.append(attn)\n",
    "        if return_attn:\n",
    "            return combined, attn_weights\n",
    "        return combined\n",
    "\n",
    "class VAP(nn.Module):\n",
    "    def __init__(self, encoder, transformer):\n",
    "        super().__init__()\n",
    "        self.encoder = encoder\n",
    "        self.transformer = transformer\n",
    "\n",
    "    def forward(self, x):\n",
    "        x1, x2 = self.encoder(x[:, 0:1]), self.encoder(x[:, 1:1])  # Encode each channel\n",
    "        _, attn_weights = self.transformer(x1, x2, return_attn=True)\n",
    "        return attn_weights"
   ]
  },
  {
   "cell_type": "code",
   "execution_count": 15,
   "metadata": {},
   "outputs": [
    {
     "name": "stdout",
     "output_type": "stream",
     "text": [
      "[tensor([[[ 1.0442]],\n",
      "\n",
      "        [[-1.1836]]])]\n"
     ]
    }
   ],
   "source": [
    "# Instantiate the model components\n",
    "encoder = EncoderCPC(output_dims=256)\n",
    "transformer = VapStereoTower(dim=256, num_heads=8, num_layers=1)\n",
    "\n",
    "# Instantiate the VAP model\n",
    "model = VAP(encoder, transformer)\n",
    "\n",
    "# Generate dummy stereo audio signal\n",
    "dummy_audio = torch.rand(1, 2, 16000)  # Batch size, channels, samples\n",
    "\n",
    "# Forward pass to get attention weights\n",
    "attention_weights = model(dummy_audio)\n",
    "\n",
    "# Print the attention weights to verify the output\n",
    "print(attention_weights)\n"
   ]
  },
  {
   "cell_type": "code",
   "execution_count": 16,
   "metadata": {},
   "outputs": [
    {
     "data": {
      "image/png": "[encoded data removed]",
      "text/plain": [
       "<Figure size 640x480 with 2 Axes>"
      ]
     },
     "metadata": {},
     "output_type": "display_data"
    }
   ],
   "source": [
    "# Assuming attention_weights is a list of tensors, where each tensor is [batch_size, num_queries, num_keys]\n",
    "# Visualize the attention weights for the first head of the first layer\n",
    "sns.heatmap(attention_weights[0][0].detach().numpy(), cmap='viridis', annot=True)\n",
    "plt.title('Attention Map')\n",
    "plt.xlabel('Keys')\n",
    "plt.ylabel('Queries')\n",
    "plt.show()"
   ]
  },
  {
   "cell_type": "code",
   "execution_count": null,
   "metadata": {},
   "outputs": [],
   "source": []
  }
 ],
 "metadata": {
  "kernelspec": {
   "display_name": "vap",
   "language": "python",
   "name": "python3"
  },
  "language_info": {
   "codemirror_mode": {
    "name": "ipython",
    "version": 3
   },
   "file_extension": ".py",
   "mimetype": "text/x-python",
   "name": "python",
   "nbconvert_exporter": "python",
   "pygments_lexer": "ipython3",
   "version": "3.10.14"
  },
  "orig_nbformat": 4
 },
 "nbformat": 4,
 "nbformat_minor": 2
}
